{
 "cells": [
  {
   "cell_type": "markdown",
   "metadata": {},
   "source": [
    "# Applying Trained Predictors to Other Target Variabes\n",
    "\n",
    "Given the predictors trained on 2022-01-17, AP2 posed the question whether we could\n",
    "apply them onto other target variables and check what the results would be.\n",
    "\n",
    "As a recap,\n",
    "the results where the following for different target variables (listing balanced accuracy)\n",
    "* Master admission: ~ 0.66\n",
    "* Fourth term AP: ~ 0.72\n",
    "* Fourth term CP: ~ 0.75\n",
    "* Dropout ~ 0.75\n",
    "* RSZ: ~ 0.6\n",
    "\n",
    "The target variables hereby are\n",
    "\n",
    "| Variable | Description |\n",
    "| --- | --- |\n",
    "| Master admission | whether the average grade was 2.3 or better |\n",
    "| Fourth term AP | whether 10 exams where passed after 4th term |\n",
    "| Fourth term CP | whether 100 ECTS where acquired after 4th term |\n",
    "| Dropout | whether a student will drop out of the study course or not |\n",
    "| RSZ | whether the degree is achieved within 6 terms of regular time of study |"
   ]
  },
  {
   "cell_type": "markdown",
   "metadata": {},
   "source": [
    "## Load datasets"
   ]
  },
  {
   "cell_type": "code",
   "execution_count": 1,
   "metadata": {},
   "outputs": [],
   "source": [
    "import pandas as pd\n",
    "import sqlite3"
   ]
  },
  {
   "cell_type": "code",
   "execution_count": 2,
   "metadata": {},
   "outputs": [],
   "source": [
    "db = sqlite3.connect(\"data/rapp.db\")\n",
    "admission_sql = \"sql/cs/cs-first_term_modules-master_admission.sql\"\n",
    "dropout_sql = \"sql/cs/cs-first_term_modules-3_dropout.sql\"\n",
    "four_term_ap_sql = \"sql/cs/cs-first_term_modules-4term_ap.sql\"\n",
    "four_term_cp_sql = \"sql/cs/cs-first_term_modules-4term_ectp.sql\"\n",
    "rsz_sql = \"sql/cs/cs-first_term_modules-rsz.sql\"\n",
    "\n",
    "def load_sql(file, con):\n",
    "    with open(file) as f:\n",
    "        sql_query = f.readlines()\n",
    "        sql_query = ''.join(sql_query)\n",
    "    return pd.read_sql_query(sql_query, con)\n"
   ]
  },
  {
   "cell_type": "code",
   "execution_count": 3,
   "metadata": {},
   "outputs": [],
   "source": [
    "admission_df = load_sql(admission_sql, db)\n",
    "dropout_df = load_sql(dropout_sql, db)\n",
    "four_term_ap_df = load_sql(four_term_ap_sql, db)\n",
    "four_term_cp_df = load_sql(four_term_cp_sql, db)\n",
    "rsz_df = load_sql(rsz_sql, db)"
   ]
  },
  {
   "cell_type": "markdown",
   "metadata": {},
   "source": [
    "### Prepare train/test split"
   ]
  },
  {
   "cell_type": "code",
   "execution_count": 4,
   "metadata": {},
   "outputs": [],
   "source": [
    "from sklearn.model_selection import train_test_split"
   ]
  },
  {
   "cell_type": "code",
   "execution_count": 5,
   "metadata": {},
   "outputs": [],
   "source": [
    "def split_df(df, label):\n",
    "    seed = 42  # Currently used in the RAPP pipeline [2022-01-20]\n",
    "    train_size = 0.8  # Current setting in RAPP pipeline [2022-01-20]\n",
    "\n",
    "    X = df.drop(label, axis=1, inplace=False)\n",
    "    y = df[label]\n",
    "\n",
    "    # Prepare categorical data\n",
    "    columns = [\"Geschlecht\"]\n",
    "    categorical = pd.get_dummies(data=X[columns], columns=columns)\n",
    "    X = pd.concat([X, categorical], axis=1)\n",
    "    X = X.drop([\"Geschlecht\"], axis=1)\n",
    "\n",
    "    X_train, X_test, y_train, y_test = train_test_split(X, y, train_size=0.8, random_state=42)\n",
    "    return X_train, X_test, y_train, y_test"
   ]
  },
  {
   "cell_type": "code",
   "execution_count": 6,
   "metadata": {},
   "outputs": [],
   "source": [
    "sets = {}\n",
    "dfs = {\n",
    "    \"dropout\": {\"df\": dropout_df, \"label\": \"Dropout\"},\n",
    "    \"admission\": {\"df\": admission_df, \"label\": \"MasterZulassung\"},\n",
    "    \"4term_ap\": {\"df\": four_term_ap_df, \"label\": \"FourthTermAP\"},\n",
    "    \"4term_cp\": {\"df\": four_term_cp_df, \"label\": \"FourthTermCP\"},\n",
    "    \"rsz\": {\"df\": rsz_df, \"label\": \"RSZ\"},\n",
    "}\n",
    "\n",
    "for target in dfs.keys():\n",
    "    sets[target] = {}\n",
    "    X_train, X_test, y_train, y_test = split_df(**dfs[target])\n",
    "    sets[target][\"X_train\"] = X_train\n",
    "    sets[target][\"X_test\"] = X_test\n",
    "    sets[target][\"y_train\"] = y_train\n",
    "    sets[target][\"y_test\"] = y_test"
   ]
  },
  {
   "cell_type": "markdown",
   "metadata": {},
   "source": [
    "## Load the models"
   ]
  },
  {
   "cell_type": "code",
   "execution_count": 7,
   "metadata": {},
   "outputs": [],
   "source": [
    "import joblib"
   ]
  },
  {
   "cell_type": "code",
   "execution_count": 8,
   "metadata": {},
   "outputs": [],
   "source": [
    "# Deeper Models\n",
    "# admission_clf = joblib.load(\"reports/2022-01-17/admission/DecisionTreeClassifier/additional_models/76.joblib\")\n",
    "# dropout_clf = joblib.load(\"reports/2022-01-17/dropout/DecisionTreeClassifier/additional_models/83.joblib\")\n",
    "# four_term_ap_clf = joblib.load(\"reports/2022-01-17/4term_ap/DecisionTreeClassifier/additional_models/141.joblib\")\n",
    "# four_term_cp_clf = joblib.load(\"reports/2022-01-17/4term_cp/DecisionTreeClassifier/additional_models/148.joblib\")\n",
    "# rsz_clf = joblib.load(\"reports/2022-01-17/rsz/DecisionTreeClassifier/additional_models/63.joblib\")\n",
    "\n",
    "# More shallow models\n",
    "admission_clf = joblib.load(\"reports/2022-01-17/admission/DecisionTreeClassifier/additional_models/79.joblib\")\n",
    "dropout_clf = joblib.load(\"reports/2022-01-17/dropout/DecisionTreeClassifier/additional_models/96.joblib\")\n",
    "four_term_ap_clf = joblib.load(\"reports/2022-01-17/4term_ap/DecisionTreeClassifier/additional_models/141.joblib\")\n",
    "four_term_cp_clf = joblib.load(\"reports/2022-01-17/4term_cp/DecisionTreeClassifier/additional_models/153.joblib\")\n",
    "rsz_clf = joblib.load(\"reports/2022-01-17/rsz/DecisionTreeClassifier/additional_models/70.joblib\")"
   ]
  },
  {
   "cell_type": "code",
   "execution_count": 9,
   "metadata": {},
   "outputs": [],
   "source": [
    "models = {\n",
    "    \"admission\": admission_clf,\n",
    "    \"dropout\": dropout_clf,\n",
    "    \"4term_ap\": four_term_ap_clf,\n",
    "    \"4term_cp\": four_term_cp_clf,\n",
    "    \"rsz\": rsz_clf\n",
    "}"
   ]
  },
  {
   "cell_type": "markdown",
   "metadata": {},
   "source": [
    "## Make Cross-Predictions"
   ]
  },
  {
   "cell_type": "code",
   "execution_count": 10,
   "metadata": {},
   "outputs": [],
   "source": [
    "from sklearn.metrics import balanced_accuracy_score"
   ]
  },
  {
   "cell_type": "code",
   "execution_count": 11,
   "metadata": {},
   "outputs": [],
   "source": [
    "targets = [\"admission\", \"dropout\", \"4term_ap\", \"4term_cp\", \"rsz\"]\n",
    "\n",
    "scores = {}\n",
    "\n",
    "for t1 in targets:\n",
    "    clf = models[t1]\n",
    "    model_key = t1 + \"_clf\"\n",
    "    scores[model_key] = {}\n",
    "    for t2 in targets:\n",
    "        X_test, y_test = sets[t2][\"X_test\"], sets[t2][\"y_test\"]\n",
    "        y_pred = clf.predict(X_test)\n",
    "        bacc = balanced_accuracy_score(y_test, y_pred)\n",
    "        scores[model_key][t2] = bacc"
   ]
  },
  {
   "cell_type": "code",
   "execution_count": 12,
   "metadata": {},
   "outputs": [],
   "source": [
    "results = pd.DataFrame(scores)"
   ]
  },
  {
   "cell_type": "code",
   "execution_count": 13,
   "metadata": {},
   "outputs": [
    {
     "name": "stdout",
     "output_type": "stream",
     "text": [
      "           admission_clf  dropout_clf  4term_ap_clf  4term_cp_clf   rsz_clf\n",
      "admission       0.638889     0.500000      0.522222      0.527778  0.444444\n",
      "dropout         0.419643     0.742857      0.212500      0.280357  0.300000\n",
      "4term_ap        0.636276     0.256157      0.766049      0.749135  0.699121\n",
      "4term_cp        0.643359     0.238010      0.761006      0.783533  0.733749\n",
      "rsz             0.612500     0.468750      0.550000      0.556250  0.568750\n"
     ]
    }
   ],
   "source": [
    "print(results)"
   ]
  },
  {
   "cell_type": "code",
   "execution_count": null,
   "metadata": {},
   "outputs": [],
   "source": []
  }
 ],
 "metadata": {
  "interpreter": {
   "hash": "890b1d3d1a4d3e30a9aae7db72abda11a91aa5cbee365e582520794914e99a24"
  },
  "kernelspec": {
   "display_name": "rapp-predictor",
   "language": "python",
   "name": "python3"
  },
  "language_info": {
   "codemirror_mode": {
    "name": "ipython",
    "version": 3
   },
   "file_extension": ".py",
   "mimetype": "text/x-python",
   "name": "python",
   "nbconvert_exporter": "python",
   "pygments_lexer": "ipython3",
   "version": "3.8.10"
  }
 },
 "nbformat": 4,
 "nbformat_minor": 4
}
