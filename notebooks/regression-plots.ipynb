{
 "cells": [
  {
   "cell_type": "markdown",
   "metadata": {},
   "source": [
    "# Distribution of Continuous Target Variables"
   ]
  },
  {
   "cell_type": "code",
   "execution_count": 1,
   "metadata": {},
   "outputs": [],
   "source": [
    "import numpy as np\n",
    "import pandas as pd\n",
    "import sqlite3\n",
    "import matplotlib.pyplot as plt\n",
    "\n",
    "conn = sqlite3.connect(\"../data/rapp.db\")"
   ]
  },
  {
   "cell_type": "code",
   "execution_count": 2,
   "metadata": {},
   "outputs": [],
   "source": [
    "cs_graduates = \"sql/graduates.sql\""
   ]
  },
  {
   "cell_type": "code",
   "execution_count": 3,
   "metadata": {},
   "outputs": [],
   "source": [
    "def load_sql(file, conn=conn):\n",
    "    with open(file, 'r') as f:\n",
    "        sql = f.read()\n",
    "    return pd.read_sql_query(sql, conn)\n",
    "\n",
    "def group_and_count(df, column_name):\n",
    "    return df.groupby([column_name]).size().reset_index(name='count')"
   ]
  },
  {
   "cell_type": "code",
   "execution_count": 4,
   "metadata": {},
   "outputs": [],
   "source": [
    "%matplotlib inline\n",
    "def group_and_plot(file, column, xlabel=None, ylabel=None, conn=conn):\n",
    "    df = load_sql(file, conn)\n",
    "    df = group_and_count(df, column)\n",
    "\n",
    "    plt.plot(df[column], df[\"count\"])\n",
    "    plt.xlabel(xlabel)\n",
    "    plt.ylabel(ylabel)\n",
    "\n",
    "    return df"
   ]
  },
  {
   "cell_type": "code",
   "execution_count": 5,
   "metadata": {},
   "outputs": [],
   "source": [
    "def hist(file, column, bins, xlabel=None, ylabel=None, conn=conn):\n",
    "    df = load_sql(file, conn)\n",
    "\n",
    "    plt.hist(df[column], bins=bins)\n",
    "    plt.xlabel(xlabel)\n",
    "    plt.ylabel(ylabel)\n",
    "\n",
    "    return df\n"
   ]
  },
  {
   "cell_type": "markdown",
   "metadata": {},
   "source": [
    "## CS graduation metrics"
   ]
  },
  {
   "cell_type": "code",
   "execution_count": 6,
   "metadata": {},
   "outputs": [
    {
     "data": {
      "text/plain": [
       "<matplotlib.lines.Line2D at 0x7fc737a5e910>"
      ]
     },
     "execution_count": 6,
     "metadata": {},
     "output_type": "execute_result"
    },
    {
     "data": {
      "image/png": "[encoded data removed]",
      "text/plain": [
       "<Figure size 432x288 with 1 Axes>"
      ]
     },
     "metadata": {
      "needs_background": "light"
     },
     "output_type": "display_data"
    }
   ],
   "source": [
    "df1 = group_and_plot(cs_graduates, \"LastTerm\",\n",
    "                    xlabel=\"Final Term\", ylabel=\"No. Students\")\n",
    "plt.axvline(x=6, color='c', linestyle=\":\")\n",
    "plt.axvline(x=8, color='c', linestyle=\":\")"
   ]
  },
  {
   "cell_type": "markdown",
   "metadata": {},
   "source": [
    "Highlighted are the terms 6 (standard duration of study)\n",
    "and 8 (average needed duration of study)."
   ]
  },
  {
   "cell_type": "code",
   "execution_count": 7,
   "metadata": {},
   "outputs": [
    {
     "data": {
      "image/png": "[encoded data removed]",
      "text/plain": [
       "<Figure size 432x288 with 1 Axes>"
      ]
     },
     "metadata": {
      "needs_background": "light"
     },
     "output_type": "display_data"
    }
   ],
   "source": [
    "grade_bins = np.linspace(1., 4., num=31, endpoint=True)\n",
    "\n",
    "df2 = hist(cs_graduates, \"Grade\", grade_bins,\n",
    "          xlabel=\"Avg. Grade after Graduation\",\n",
    "          ylabel=\"No. Students\")\n"
   ]
  },
  {
   "cell_type": "markdown",
   "metadata": {},
   "source": [
    "### Map avg. grade vs. terms needed"
   ]
  },
  {
   "cell_type": "code",
   "execution_count": 8,
   "metadata": {},
   "outputs": [],
   "source": [
    "df = load_sql(cs_graduates)\n",
    "data = df[[\"LastTerm\", \"Grade\"]].groupby(\"LastTerm\")"
   ]
  },
  {
   "cell_type": "code",
   "execution_count": 9,
   "metadata": {},
   "outputs": [
    {
     "data": {
      "text/html": [
       "<div>\n",
       "<style scoped>\n",
       "    .dataframe tbody tr th:only-of-type {\n",
       "        vertical-align: middle;\n",
       "    }\n",
       "\n",
       "    .dataframe tbody tr th {\n",
       "        vertical-align: top;\n",
       "    }\n",
       "\n",
       "    .dataframe thead th {\n",
       "        text-align: right;\n",
       "    }\n",
       "</style>\n",
       "<table border=\"1\" class=\"dataframe\">\n",
       "  <thead>\n",
       "    <tr style=\"text-align: right;\">\n",
       "      <th></th>\n",
       "      <th>LastTerm</th>\n",
       "      <th>Grade</th>\n",
       "    </tr>\n",
       "  </thead>\n",
       "  <tbody>\n",
       "    <tr>\n",
       "      <th>0</th>\n",
       "      <td>2</td>\n",
       "      <td>NaN</td>\n",
       "    </tr>\n",
       "    <tr>\n",
       "      <th>1</th>\n",
       "      <td>3</td>\n",
       "      <td>0.891372</td>\n",
       "    </tr>\n",
       "    <tr>\n",
       "      <th>2</th>\n",
       "      <td>4</td>\n",
       "      <td>0.735692</td>\n",
       "    </tr>\n",
       "    <tr>\n",
       "      <th>3</th>\n",
       "      <td>5</td>\n",
       "      <td>0.673639</td>\n",
       "    </tr>\n",
       "    <tr>\n",
       "      <th>4</th>\n",
       "      <td>6</td>\n",
       "      <td>0.518680</td>\n",
       "    </tr>\n",
       "  </tbody>\n",
       "</table>\n",
       "</div>"
      ],
      "text/plain": [
       "   LastTerm     Grade\n",
       "0         2       NaN\n",
       "1         3  0.891372\n",
       "2         4  0.735692\n",
       "3         5  0.673639\n",
       "4         6  0.518680"
      ]
     },
     "execution_count": 9,
     "metadata": {},
     "output_type": "execute_result"
    }
   ],
   "source": [
    "means = data.mean().reset_index()\n",
    "stds = data.std().reset_index()\n",
    "stds.head()"
   ]
  },
  {
   "cell_type": "code",
   "execution_count": 10,
   "metadata": {},
   "outputs": [
    {
     "data": {
      "text/plain": [
       "<matplotlib.lines.Line2D at 0x7fc737857d90>"
      ]
     },
     "execution_count": 10,
     "metadata": {},
     "output_type": "execute_result"
    },
    {
     "data": {
      "image/png": "[encoded data removed]",
      "text/plain": [
       "<Figure size 432x288 with 1 Axes>"
      ]
     },
     "metadata": {
      "needs_background": "light"
     },
     "output_type": "display_data"
    }
   ],
   "source": [
    "plt.errorbar(means[\"LastTerm\"], means[\"Grade\"], yerr=stds[\"Grade\"],\n",
    "    ecolor=\"r\", elinewidth=1, capsize=1)\n",
    "plt.xlabel(\"Final Term\")\n",
    "plt.ylabel(\"Avg. Grade\")\n",
    "plt.axhline(y=2.5, color='c', linestyle=':')"
   ]
  },
  {
   "cell_type": "markdown",
   "metadata": {},
   "source": [
    "Highlighted are the average grade needed for master's admission (2.5)\n",
    "as well as the standard deviation for each term."
   ]
  },
  {
   "cell_type": "markdown",
   "metadata": {},
   "source": [
    "## CS Avg. Student Progress"
   ]
  },
  {
   "cell_type": "code",
   "execution_count": 11,
   "metadata": {},
   "outputs": [],
   "source": [
    "cs_avg = \"sql/avg_progress.sql\""
   ]
  },
  {
   "cell_type": "code",
   "execution_count": 12,
   "metadata": {},
   "outputs": [
    {
     "data": {
      "text/html": [
       "<div>\n",
       "<style scoped>\n",
       "    .dataframe tbody tr th:only-of-type {\n",
       "        vertical-align: middle;\n",
       "    }\n",
       "\n",
       "    .dataframe tbody tr th {\n",
       "        vertical-align: top;\n",
       "    }\n",
       "\n",
       "    .dataframe thead th {\n",
       "        text-align: right;\n",
       "    }\n",
       "</style>\n",
       "<table border=\"1\" class=\"dataframe\">\n",
       "  <thead>\n",
       "    <tr style=\"text-align: right;\">\n",
       "      <th></th>\n",
       "      <th>Pseudonym</th>\n",
       "      <th>Fachsemester</th>\n",
       "      <th>AvgNote</th>\n",
       "      <th>SummeNoten</th>\n",
       "      <th>AnzahlNoten</th>\n",
       "      <th>Ects</th>\n",
       "      <th>Studienfach</th>\n",
       "      <th>Abschluss</th>\n",
       "      <th>Bestanden</th>\n",
       "      <th>MaxSemesterjahr</th>\n",
       "    </tr>\n",
       "  </thead>\n",
       "  <tbody>\n",
       "    <tr>\n",
       "      <th>0</th>\n",
       "      <td>1330409</td>\n",
       "      <td>4</td>\n",
       "      <td>2.666667</td>\n",
       "      <td>8.0</td>\n",
       "      <td>3</td>\n",
       "      <td>34.0</td>\n",
       "      <td>Informatik</td>\n",
       "      <td>Bachelor</td>\n",
       "      <td>1</td>\n",
       "      <td>2011</td>\n",
       "    </tr>\n",
       "    <tr>\n",
       "      <th>1</th>\n",
       "      <td>1330409</td>\n",
       "      <td>5</td>\n",
       "      <td>1.150000</td>\n",
       "      <td>4.6</td>\n",
       "      <td>4</td>\n",
       "      <td>51.0</td>\n",
       "      <td>Informatik</td>\n",
       "      <td>Bachelor</td>\n",
       "      <td>1</td>\n",
       "      <td>2011</td>\n",
       "    </tr>\n",
       "    <tr>\n",
       "      <th>2</th>\n",
       "      <td>1330409</td>\n",
       "      <td>6</td>\n",
       "      <td>NaN</td>\n",
       "      <td>NaN</td>\n",
       "      <td>0</td>\n",
       "      <td>0.0</td>\n",
       "      <td>Informatik</td>\n",
       "      <td>Bachelor</td>\n",
       "      <td>1</td>\n",
       "      <td>2012</td>\n",
       "    </tr>\n",
       "    <tr>\n",
       "      <th>3</th>\n",
       "      <td>1330409</td>\n",
       "      <td>7</td>\n",
       "      <td>NaN</td>\n",
       "      <td>NaN</td>\n",
       "      <td>0</td>\n",
       "      <td>10.0</td>\n",
       "      <td>Informatik</td>\n",
       "      <td>Bachelor</td>\n",
       "      <td>1</td>\n",
       "      <td>2012</td>\n",
       "    </tr>\n",
       "    <tr>\n",
       "      <th>4</th>\n",
       "      <td>1330409</td>\n",
       "      <td>9</td>\n",
       "      <td>3.500000</td>\n",
       "      <td>7.0</td>\n",
       "      <td>2</td>\n",
       "      <td>15.0</td>\n",
       "      <td>Informatik</td>\n",
       "      <td>Bachelor</td>\n",
       "      <td>1</td>\n",
       "      <td>2013</td>\n",
       "    </tr>\n",
       "    <tr>\n",
       "      <th>...</th>\n",
       "      <td>...</td>\n",
       "      <td>...</td>\n",
       "      <td>...</td>\n",
       "      <td>...</td>\n",
       "      <td>...</td>\n",
       "      <td>...</td>\n",
       "      <td>...</td>\n",
       "      <td>...</td>\n",
       "      <td>...</td>\n",
       "      <td>...</td>\n",
       "    </tr>\n",
       "    <tr>\n",
       "      <th>12297</th>\n",
       "      <td>4147124</td>\n",
       "      <td>1</td>\n",
       "      <td>2.766667</td>\n",
       "      <td>16.6</td>\n",
       "      <td>6</td>\n",
       "      <td>45.0</td>\n",
       "      <td>Informatik</td>\n",
       "      <td>Bachelor</td>\n",
       "      <td>0</td>\n",
       "      <td>2020</td>\n",
       "    </tr>\n",
       "    <tr>\n",
       "      <th>12298</th>\n",
       "      <td>4150575</td>\n",
       "      <td>1</td>\n",
       "      <td>2.150000</td>\n",
       "      <td>4.3</td>\n",
       "      <td>2</td>\n",
       "      <td>25.0</td>\n",
       "      <td>Informatik</td>\n",
       "      <td>Bachelor</td>\n",
       "      <td>0</td>\n",
       "      <td>2021</td>\n",
       "    </tr>\n",
       "    <tr>\n",
       "      <th>12299</th>\n",
       "      <td>4157400</td>\n",
       "      <td>5</td>\n",
       "      <td>2.837500</td>\n",
       "      <td>22.7</td>\n",
       "      <td>8</td>\n",
       "      <td>110.0</td>\n",
       "      <td>Informatik</td>\n",
       "      <td>Bachelor</td>\n",
       "      <td>0</td>\n",
       "      <td>2021</td>\n",
       "    </tr>\n",
       "    <tr>\n",
       "      <th>12300</th>\n",
       "      <td>4162892</td>\n",
       "      <td>1</td>\n",
       "      <td>2.400000</td>\n",
       "      <td>9.6</td>\n",
       "      <td>4</td>\n",
       "      <td>45.0</td>\n",
       "      <td>Informatik</td>\n",
       "      <td>Bachelor</td>\n",
       "      <td>0</td>\n",
       "      <td>2021</td>\n",
       "    </tr>\n",
       "    <tr>\n",
       "      <th>12301</th>\n",
       "      <td>4162910</td>\n",
       "      <td>1</td>\n",
       "      <td>2.700000</td>\n",
       "      <td>8.1</td>\n",
       "      <td>3</td>\n",
       "      <td>40.0</td>\n",
       "      <td>Informatik</td>\n",
       "      <td>Bachelor</td>\n",
       "      <td>0</td>\n",
       "      <td>2021</td>\n",
       "    </tr>\n",
       "  </tbody>\n",
       "</table>\n",
       "<p>12302 rows × 10 columns</p>\n",
       "</div>"
      ],
      "text/plain": [
       "       Pseudonym  Fachsemester   AvgNote  SummeNoten  AnzahlNoten   Ects  \\\n",
       "0        1330409             4  2.666667         8.0            3   34.0   \n",
       "1        1330409             5  1.150000         4.6            4   51.0   \n",
       "2        1330409             6       NaN         NaN            0    0.0   \n",
       "3        1330409             7       NaN         NaN            0   10.0   \n",
       "4        1330409             9  3.500000         7.0            2   15.0   \n",
       "...          ...           ...       ...         ...          ...    ...   \n",
       "12297    4147124             1  2.766667        16.6            6   45.0   \n",
       "12298    4150575             1  2.150000         4.3            2   25.0   \n",
       "12299    4157400             5  2.837500        22.7            8  110.0   \n",
       "12300    4162892             1  2.400000         9.6            4   45.0   \n",
       "12301    4162910             1  2.700000         8.1            3   40.0   \n",
       "\n",
       "      Studienfach Abschluss  Bestanden  MaxSemesterjahr  \n",
       "0      Informatik  Bachelor          1             2011  \n",
       "1      Informatik  Bachelor          1             2011  \n",
       "2      Informatik  Bachelor          1             2012  \n",
       "3      Informatik  Bachelor          1             2012  \n",
       "4      Informatik  Bachelor          1             2013  \n",
       "...           ...       ...        ...              ...  \n",
       "12297  Informatik  Bachelor          0             2020  \n",
       "12298  Informatik  Bachelor          0             2021  \n",
       "12299  Informatik  Bachelor          0             2021  \n",
       "12300  Informatik  Bachelor          0             2021  \n",
       "12301  Informatik  Bachelor          0             2021  \n",
       "\n",
       "[12302 rows x 10 columns]"
      ]
     },
     "execution_count": 12,
     "metadata": {},
     "output_type": "execute_result"
    }
   ],
   "source": [
    "df = load_sql(cs_avg)\n",
    "df"
   ]
  },
  {
   "cell_type": "markdown",
   "metadata": {},
   "source": [
    "As I was unable to properly create the cumulative sums over average grade and CP, we need to sum the cumulative results per term ourselves."
   ]
  },
  {
   "cell_type": "code",
   "execution_count": 13,
   "metadata": {},
   "outputs": [
    {
     "data": {
      "text/html": [
       "<div>\n",
       "<style scoped>\n",
       "    .dataframe tbody tr th:only-of-type {\n",
       "        vertical-align: middle;\n",
       "    }\n",
       "\n",
       "    .dataframe tbody tr th {\n",
       "        vertical-align: top;\n",
       "    }\n",
       "\n",
       "    .dataframe thead th {\n",
       "        text-align: right;\n",
       "    }\n",
       "</style>\n",
       "<table border=\"1\" class=\"dataframe\">\n",
       "  <thead>\n",
       "    <tr style=\"text-align: right;\">\n",
       "      <th></th>\n",
       "      <th>Pseudonym</th>\n",
       "      <th>Fachsemester</th>\n",
       "      <th>AvgNote</th>\n",
       "      <th>SummeNoten</th>\n",
       "      <th>AnzahlNoten</th>\n",
       "      <th>Ects</th>\n",
       "      <th>Studienfach</th>\n",
       "      <th>Abschluss</th>\n",
       "      <th>Bestanden</th>\n",
       "      <th>MaxSemesterjahr</th>\n",
       "    </tr>\n",
       "  </thead>\n",
       "  <tbody>\n",
       "    <tr>\n",
       "      <th>0</th>\n",
       "      <td>1330409</td>\n",
       "      <td>4</td>\n",
       "      <td>2.666667</td>\n",
       "      <td>8.0</td>\n",
       "      <td>3</td>\n",
       "      <td>34.0</td>\n",
       "      <td>Informatik</td>\n",
       "      <td>Bachelor</td>\n",
       "      <td>1</td>\n",
       "      <td>2011</td>\n",
       "    </tr>\n",
       "    <tr>\n",
       "      <th>1</th>\n",
       "      <td>1330409</td>\n",
       "      <td>5</td>\n",
       "      <td>1.800000</td>\n",
       "      <td>12.6</td>\n",
       "      <td>7</td>\n",
       "      <td>85.0</td>\n",
       "      <td>Informatik</td>\n",
       "      <td>Bachelor</td>\n",
       "      <td>1</td>\n",
       "      <td>2011</td>\n",
       "    </tr>\n",
       "    <tr>\n",
       "      <th>2</th>\n",
       "      <td>1330409</td>\n",
       "      <td>6</td>\n",
       "      <td>1.800000</td>\n",
       "      <td>12.6</td>\n",
       "      <td>7</td>\n",
       "      <td>85.0</td>\n",
       "      <td>Informatik</td>\n",
       "      <td>Bachelor</td>\n",
       "      <td>1</td>\n",
       "      <td>2012</td>\n",
       "    </tr>\n",
       "    <tr>\n",
       "      <th>3</th>\n",
       "      <td>1330409</td>\n",
       "      <td>7</td>\n",
       "      <td>1.800000</td>\n",
       "      <td>12.6</td>\n",
       "      <td>7</td>\n",
       "      <td>95.0</td>\n",
       "      <td>Informatik</td>\n",
       "      <td>Bachelor</td>\n",
       "      <td>1</td>\n",
       "      <td>2012</td>\n",
       "    </tr>\n",
       "    <tr>\n",
       "      <th>4</th>\n",
       "      <td>1330409</td>\n",
       "      <td>9</td>\n",
       "      <td>2.177778</td>\n",
       "      <td>19.6</td>\n",
       "      <td>9</td>\n",
       "      <td>110.0</td>\n",
       "      <td>Informatik</td>\n",
       "      <td>Bachelor</td>\n",
       "      <td>1</td>\n",
       "      <td>2013</td>\n",
       "    </tr>\n",
       "    <tr>\n",
       "      <th>...</th>\n",
       "      <td>...</td>\n",
       "      <td>...</td>\n",
       "      <td>...</td>\n",
       "      <td>...</td>\n",
       "      <td>...</td>\n",
       "      <td>...</td>\n",
       "      <td>...</td>\n",
       "      <td>...</td>\n",
       "      <td>...</td>\n",
       "      <td>...</td>\n",
       "    </tr>\n",
       "    <tr>\n",
       "      <th>12297</th>\n",
       "      <td>4147124</td>\n",
       "      <td>1</td>\n",
       "      <td>2.766667</td>\n",
       "      <td>16.6</td>\n",
       "      <td>6</td>\n",
       "      <td>45.0</td>\n",
       "      <td>Informatik</td>\n",
       "      <td>Bachelor</td>\n",
       "      <td>0</td>\n",
       "      <td>2020</td>\n",
       "    </tr>\n",
       "    <tr>\n",
       "      <th>12298</th>\n",
       "      <td>4150575</td>\n",
       "      <td>1</td>\n",
       "      <td>2.150000</td>\n",
       "      <td>4.3</td>\n",
       "      <td>2</td>\n",
       "      <td>25.0</td>\n",
       "      <td>Informatik</td>\n",
       "      <td>Bachelor</td>\n",
       "      <td>0</td>\n",
       "      <td>2021</td>\n",
       "    </tr>\n",
       "    <tr>\n",
       "      <th>12299</th>\n",
       "      <td>4157400</td>\n",
       "      <td>5</td>\n",
       "      <td>2.837500</td>\n",
       "      <td>22.7</td>\n",
       "      <td>8</td>\n",
       "      <td>110.0</td>\n",
       "      <td>Informatik</td>\n",
       "      <td>Bachelor</td>\n",
       "      <td>0</td>\n",
       "      <td>2021</td>\n",
       "    </tr>\n",
       "    <tr>\n",
       "      <th>12300</th>\n",
       "      <td>4162892</td>\n",
       "      <td>1</td>\n",
       "      <td>2.400000</td>\n",
       "      <td>9.6</td>\n",
       "      <td>4</td>\n",
       "      <td>45.0</td>\n",
       "      <td>Informatik</td>\n",
       "      <td>Bachelor</td>\n",
       "      <td>0</td>\n",
       "      <td>2021</td>\n",
       "    </tr>\n",
       "    <tr>\n",
       "      <th>12301</th>\n",
       "      <td>4162910</td>\n",
       "      <td>1</td>\n",
       "      <td>2.700000</td>\n",
       "      <td>8.1</td>\n",
       "      <td>3</td>\n",
       "      <td>40.0</td>\n",
       "      <td>Informatik</td>\n",
       "      <td>Bachelor</td>\n",
       "      <td>0</td>\n",
       "      <td>2021</td>\n",
       "    </tr>\n",
       "  </tbody>\n",
       "</table>\n",
       "<p>12302 rows × 10 columns</p>\n",
       "</div>"
      ],
      "text/plain": [
       "       Pseudonym  Fachsemester   AvgNote  SummeNoten  AnzahlNoten   Ects  \\\n",
       "0        1330409             4  2.666667         8.0            3   34.0   \n",
       "1        1330409             5  1.800000        12.6            7   85.0   \n",
       "2        1330409             6  1.800000        12.6            7   85.0   \n",
       "3        1330409             7  1.800000        12.6            7   95.0   \n",
       "4        1330409             9  2.177778        19.6            9  110.0   \n",
       "...          ...           ...       ...         ...          ...    ...   \n",
       "12297    4147124             1  2.766667        16.6            6   45.0   \n",
       "12298    4150575             1  2.150000         4.3            2   25.0   \n",
       "12299    4157400             5  2.837500        22.7            8  110.0   \n",
       "12300    4162892             1  2.400000         9.6            4   45.0   \n",
       "12301    4162910             1  2.700000         8.1            3   40.0   \n",
       "\n",
       "      Studienfach Abschluss  Bestanden  MaxSemesterjahr  \n",
       "0      Informatik  Bachelor          1             2011  \n",
       "1      Informatik  Bachelor          1             2011  \n",
       "2      Informatik  Bachelor          1             2012  \n",
       "3      Informatik  Bachelor          1             2012  \n",
       "4      Informatik  Bachelor          1             2013  \n",
       "...           ...       ...        ...              ...  \n",
       "12297  Informatik  Bachelor          0             2020  \n",
       "12298  Informatik  Bachelor          0             2021  \n",
       "12299  Informatik  Bachelor          0             2021  \n",
       "12300  Informatik  Bachelor          0             2021  \n",
       "12301  Informatik  Bachelor          0             2021  \n",
       "\n",
       "[12302 rows x 10 columns]"
      ]
     },
     "execution_count": 13,
     "metadata": {},
     "output_type": "execute_result"
    }
   ],
   "source": [
    "cum_fields = [\"AnzahlNoten\", \"SummeNoten\", \"Ects\"]\n",
    "\n",
    "student_data = df.fillna(0).groupby([\"Pseudonym\"])\n",
    "cum = student_data[cum_fields].cumsum()\n",
    "cum_data = df.copy()\n",
    "cum_data[cum_fields] = cum[cum_fields]\n",
    "cum_data[\"AvgNote\"] = cum_data[\"SummeNoten\"]/cum_data[\"AnzahlNoten\"]\n",
    "cum_data"
   ]
  },
  {
   "cell_type": "markdown",
   "metadata": {},
   "source": [
    "We further want to model \"Bestanden\" to mean either Graduate or Dropout."
   ]
  },
  {
   "cell_type": "code",
   "execution_count": 14,
   "metadata": {},
   "outputs": [
    {
     "data": {
      "text/html": [
       "<div>\n",
       "<style scoped>\n",
       "    .dataframe tbody tr th:only-of-type {\n",
       "        vertical-align: middle;\n",
       "    }\n",
       "\n",
       "    .dataframe tbody tr th {\n",
       "        vertical-align: top;\n",
       "    }\n",
       "\n",
       "    .dataframe thead th {\n",
       "        text-align: right;\n",
       "    }\n",
       "</style>\n",
       "<table border=\"1\" class=\"dataframe\">\n",
       "  <thead>\n",
       "    <tr style=\"text-align: right;\">\n",
       "      <th></th>\n",
       "      <th>Pseudonym</th>\n",
       "      <th>Fachsemester</th>\n",
       "      <th>AvgNote</th>\n",
       "      <th>SummeNoten</th>\n",
       "      <th>AnzahlNoten</th>\n",
       "      <th>Ects</th>\n",
       "      <th>Studienfach</th>\n",
       "      <th>Abschluss</th>\n",
       "      <th>Bestanden</th>\n",
       "      <th>MaxSemesterjahr</th>\n",
       "    </tr>\n",
       "  </thead>\n",
       "  <tbody>\n",
       "    <tr>\n",
       "      <th>0</th>\n",
       "      <td>1330409</td>\n",
       "      <td>4</td>\n",
       "      <td>2.666667</td>\n",
       "      <td>8.0</td>\n",
       "      <td>3</td>\n",
       "      <td>34.0</td>\n",
       "      <td>Informatik</td>\n",
       "      <td>Bachelor</td>\n",
       "      <td>1</td>\n",
       "      <td>2011</td>\n",
       "    </tr>\n",
       "    <tr>\n",
       "      <th>1</th>\n",
       "      <td>1330409</td>\n",
       "      <td>5</td>\n",
       "      <td>1.800000</td>\n",
       "      <td>12.6</td>\n",
       "      <td>7</td>\n",
       "      <td>85.0</td>\n",
       "      <td>Informatik</td>\n",
       "      <td>Bachelor</td>\n",
       "      <td>1</td>\n",
       "      <td>2011</td>\n",
       "    </tr>\n",
       "    <tr>\n",
       "      <th>2</th>\n",
       "      <td>1330409</td>\n",
       "      <td>6</td>\n",
       "      <td>1.800000</td>\n",
       "      <td>12.6</td>\n",
       "      <td>7</td>\n",
       "      <td>85.0</td>\n",
       "      <td>Informatik</td>\n",
       "      <td>Bachelor</td>\n",
       "      <td>1</td>\n",
       "      <td>2012</td>\n",
       "    </tr>\n",
       "    <tr>\n",
       "      <th>3</th>\n",
       "      <td>1330409</td>\n",
       "      <td>7</td>\n",
       "      <td>1.800000</td>\n",
       "      <td>12.6</td>\n",
       "      <td>7</td>\n",
       "      <td>95.0</td>\n",
       "      <td>Informatik</td>\n",
       "      <td>Bachelor</td>\n",
       "      <td>1</td>\n",
       "      <td>2012</td>\n",
       "    </tr>\n",
       "    <tr>\n",
       "      <th>4</th>\n",
       "      <td>1330409</td>\n",
       "      <td>9</td>\n",
       "      <td>2.177778</td>\n",
       "      <td>19.6</td>\n",
       "      <td>9</td>\n",
       "      <td>110.0</td>\n",
       "      <td>Informatik</td>\n",
       "      <td>Bachelor</td>\n",
       "      <td>1</td>\n",
       "      <td>2013</td>\n",
       "    </tr>\n",
       "    <tr>\n",
       "      <th>...</th>\n",
       "      <td>...</td>\n",
       "      <td>...</td>\n",
       "      <td>...</td>\n",
       "      <td>...</td>\n",
       "      <td>...</td>\n",
       "      <td>...</td>\n",
       "      <td>...</td>\n",
       "      <td>...</td>\n",
       "      <td>...</td>\n",
       "      <td>...</td>\n",
       "    </tr>\n",
       "    <tr>\n",
       "      <th>12090</th>\n",
       "      <td>4042357</td>\n",
       "      <td>1</td>\n",
       "      <td>1.925000</td>\n",
       "      <td>7.7</td>\n",
       "      <td>4</td>\n",
       "      <td>30.0</td>\n",
       "      <td>Informatik</td>\n",
       "      <td>Bachelor</td>\n",
       "      <td>0</td>\n",
       "      <td>2019</td>\n",
       "    </tr>\n",
       "    <tr>\n",
       "      <th>12093</th>\n",
       "      <td>4042393</td>\n",
       "      <td>1</td>\n",
       "      <td>5.000000</td>\n",
       "      <td>5.0</td>\n",
       "      <td>1</td>\n",
       "      <td>0.0</td>\n",
       "      <td>Informatik</td>\n",
       "      <td>Bachelor</td>\n",
       "      <td>0</td>\n",
       "      <td>2019</td>\n",
       "    </tr>\n",
       "    <tr>\n",
       "      <th>12094</th>\n",
       "      <td>4042635</td>\n",
       "      <td>1</td>\n",
       "      <td>5.000000</td>\n",
       "      <td>5.0</td>\n",
       "      <td>1</td>\n",
       "      <td>0.0</td>\n",
       "      <td>Informatik</td>\n",
       "      <td>Bachelor</td>\n",
       "      <td>0</td>\n",
       "      <td>2019</td>\n",
       "    </tr>\n",
       "    <tr>\n",
       "      <th>12097</th>\n",
       "      <td>4042843</td>\n",
       "      <td>1</td>\n",
       "      <td>5.000000</td>\n",
       "      <td>10.0</td>\n",
       "      <td>2</td>\n",
       "      <td>0.0</td>\n",
       "      <td>Informatik</td>\n",
       "      <td>Bachelor</td>\n",
       "      <td>0</td>\n",
       "      <td>2019</td>\n",
       "    </tr>\n",
       "    <tr>\n",
       "      <th>12098</th>\n",
       "      <td>4043012</td>\n",
       "      <td>1</td>\n",
       "      <td>3.300000</td>\n",
       "      <td>3.3</td>\n",
       "      <td>1</td>\n",
       "      <td>10.0</td>\n",
       "      <td>Informatik</td>\n",
       "      <td>Bachelor</td>\n",
       "      <td>0</td>\n",
       "      <td>2019</td>\n",
       "    </tr>\n",
       "  </tbody>\n",
       "</table>\n",
       "<p>10313 rows × 10 columns</p>\n",
       "</div>"
      ],
      "text/plain": [
       "       Pseudonym  Fachsemester   AvgNote  SummeNoten  AnzahlNoten   Ects  \\\n",
       "0        1330409             4  2.666667         8.0            3   34.0   \n",
       "1        1330409             5  1.800000        12.6            7   85.0   \n",
       "2        1330409             6  1.800000        12.6            7   85.0   \n",
       "3        1330409             7  1.800000        12.6            7   95.0   \n",
       "4        1330409             9  2.177778        19.6            9  110.0   \n",
       "...          ...           ...       ...         ...          ...    ...   \n",
       "12090    4042357             1  1.925000         7.7            4   30.0   \n",
       "12093    4042393             1  5.000000         5.0            1    0.0   \n",
       "12094    4042635             1  5.000000         5.0            1    0.0   \n",
       "12097    4042843             1  5.000000        10.0            2    0.0   \n",
       "12098    4043012             1  3.300000         3.3            1   10.0   \n",
       "\n",
       "      Studienfach Abschluss  Bestanden  MaxSemesterjahr  \n",
       "0      Informatik  Bachelor          1             2011  \n",
       "1      Informatik  Bachelor          1             2011  \n",
       "2      Informatik  Bachelor          1             2012  \n",
       "3      Informatik  Bachelor          1             2012  \n",
       "4      Informatik  Bachelor          1             2013  \n",
       "...           ...       ...        ...              ...  \n",
       "12090  Informatik  Bachelor          0             2019  \n",
       "12093  Informatik  Bachelor          0             2019  \n",
       "12094  Informatik  Bachelor          0             2019  \n",
       "12097  Informatik  Bachelor          0             2019  \n",
       "12098  Informatik  Bachelor          0             2019  \n",
       "\n",
       "[10313 rows x 10 columns]"
      ]
     },
     "execution_count": 14,
     "metadata": {},
     "output_type": "execute_result"
    }
   ],
   "source": [
    "# Filter out all entries since 2020 (last three terms)\n",
    "cum_data = cum_data[cum_data[\"MaxSemesterjahr\"] < 2020]\n",
    "cum_data"
   ]
  },
  {
   "cell_type": "code",
   "execution_count": 15,
   "metadata": {},
   "outputs": [],
   "source": [
    "# Average out over all terms\n",
    "avg_cum = cum_data[cum_fields + [\"Fachsemester\", \"AvgNote\", \"Bestanden\", \"MaxSemesterjahr\"]]\n",
    "avg_data = avg_cum.groupby([\"Fachsemester\", \"Bestanden\"]).quantile().reset_index()\n",
    "std_data = avg_cum.groupby([\"Fachsemester\", \"Bestanden\"]).std().reset_index()\n",
    "quant_high = avg_cum.groupby([\"Fachsemester\", \"Bestanden\"]).quantile(0.25).reset_index()\n",
    "quant_low = avg_cum.groupby([\"Fachsemester\", \"Bestanden\"]).quantile(0.75).reset_index()"
   ]
  },
  {
   "cell_type": "code",
   "execution_count": 16,
   "metadata": {},
   "outputs": [
    {
     "data": {
      "text/html": [
       "<div>\n",
       "<style scoped>\n",
       "    .dataframe tbody tr th:only-of-type {\n",
       "        vertical-align: middle;\n",
       "    }\n",
       "\n",
       "    .dataframe tbody tr th {\n",
       "        vertical-align: top;\n",
       "    }\n",
       "\n",
       "    .dataframe thead th {\n",
       "        text-align: right;\n",
       "    }\n",
       "</style>\n",
       "<table border=\"1\" class=\"dataframe\">\n",
       "  <thead>\n",
       "    <tr style=\"text-align: right;\">\n",
       "      <th></th>\n",
       "      <th>Fachsemester</th>\n",
       "      <th>Bestanden</th>\n",
       "      <th>AnzahlNoten</th>\n",
       "      <th>SummeNoten</th>\n",
       "      <th>Ects</th>\n",
       "      <th>AvgNote</th>\n",
       "      <th>MaxSemesterjahr</th>\n",
       "    </tr>\n",
       "  </thead>\n",
       "  <tbody>\n",
       "    <tr>\n",
       "      <th>0</th>\n",
       "      <td>1</td>\n",
       "      <td>0</td>\n",
       "      <td>2.0</td>\n",
       "      <td>5.00</td>\n",
       "      <td>10.0</td>\n",
       "      <td>3.300000</td>\n",
       "      <td>2017.0</td>\n",
       "    </tr>\n",
       "    <tr>\n",
       "      <th>1</th>\n",
       "      <td>1</td>\n",
       "      <td>1</td>\n",
       "      <td>1.0</td>\n",
       "      <td>2.70</td>\n",
       "      <td>30.0</td>\n",
       "      <td>2.000000</td>\n",
       "      <td>2014.0</td>\n",
       "    </tr>\n",
       "    <tr>\n",
       "      <th>2</th>\n",
       "      <td>2</td>\n",
       "      <td>0</td>\n",
       "      <td>3.0</td>\n",
       "      <td>8.30</td>\n",
       "      <td>20.0</td>\n",
       "      <td>3.166667</td>\n",
       "      <td>2017.0</td>\n",
       "    </tr>\n",
       "    <tr>\n",
       "      <th>3</th>\n",
       "      <td>2</td>\n",
       "      <td>1</td>\n",
       "      <td>2.0</td>\n",
       "      <td>5.00</td>\n",
       "      <td>50.0</td>\n",
       "      <td>2.060000</td>\n",
       "      <td>2015.0</td>\n",
       "    </tr>\n",
       "    <tr>\n",
       "      <th>4</th>\n",
       "      <td>3</td>\n",
       "      <td>0</td>\n",
       "      <td>4.0</td>\n",
       "      <td>11.60</td>\n",
       "      <td>30.0</td>\n",
       "      <td>3.236667</td>\n",
       "      <td>2017.0</td>\n",
       "    </tr>\n",
       "    <tr>\n",
       "      <th>5</th>\n",
       "      <td>3</td>\n",
       "      <td>1</td>\n",
       "      <td>5.0</td>\n",
       "      <td>9.70</td>\n",
       "      <td>72.0</td>\n",
       "      <td>2.087500</td>\n",
       "      <td>2015.0</td>\n",
       "    </tr>\n",
       "    <tr>\n",
       "      <th>6</th>\n",
       "      <td>4</td>\n",
       "      <td>0</td>\n",
       "      <td>6.0</td>\n",
       "      <td>16.00</td>\n",
       "      <td>50.0</td>\n",
       "      <td>3.150000</td>\n",
       "      <td>2018.0</td>\n",
       "    </tr>\n",
       "    <tr>\n",
       "      <th>7</th>\n",
       "      <td>4</td>\n",
       "      <td>1</td>\n",
       "      <td>8.0</td>\n",
       "      <td>15.30</td>\n",
       "      <td>100.0</td>\n",
       "      <td>2.145833</td>\n",
       "      <td>2015.0</td>\n",
       "    </tr>\n",
       "    <tr>\n",
       "      <th>8</th>\n",
       "      <td>5</td>\n",
       "      <td>0</td>\n",
       "      <td>7.0</td>\n",
       "      <td>19.00</td>\n",
       "      <td>60.0</td>\n",
       "      <td>3.141667</td>\n",
       "      <td>2017.0</td>\n",
       "    </tr>\n",
       "    <tr>\n",
       "      <th>9</th>\n",
       "      <td>5</td>\n",
       "      <td>1</td>\n",
       "      <td>10.0</td>\n",
       "      <td>20.40</td>\n",
       "      <td>125.0</td>\n",
       "      <td>2.200000</td>\n",
       "      <td>2015.0</td>\n",
       "    </tr>\n",
       "    <tr>\n",
       "      <th>10</th>\n",
       "      <td>6</td>\n",
       "      <td>0</td>\n",
       "      <td>8.0</td>\n",
       "      <td>24.40</td>\n",
       "      <td>70.0</td>\n",
       "      <td>3.338095</td>\n",
       "      <td>2017.0</td>\n",
       "    </tr>\n",
       "    <tr>\n",
       "      <th>11</th>\n",
       "      <td>6</td>\n",
       "      <td>1</td>\n",
       "      <td>12.0</td>\n",
       "      <td>24.85</td>\n",
       "      <td>145.0</td>\n",
       "      <td>2.214706</td>\n",
       "      <td>2016.0</td>\n",
       "    </tr>\n",
       "  </tbody>\n",
       "</table>\n",
       "</div>"
      ],
      "text/plain": [
       "    Fachsemester  Bestanden  AnzahlNoten  SummeNoten   Ects   AvgNote  \\\n",
       "0              1          0          2.0        5.00   10.0  3.300000   \n",
       "1              1          1          1.0        2.70   30.0  2.000000   \n",
       "2              2          0          3.0        8.30   20.0  3.166667   \n",
       "3              2          1          2.0        5.00   50.0  2.060000   \n",
       "4              3          0          4.0       11.60   30.0  3.236667   \n",
       "5              3          1          5.0        9.70   72.0  2.087500   \n",
       "6              4          0          6.0       16.00   50.0  3.150000   \n",
       "7              4          1          8.0       15.30  100.0  2.145833   \n",
       "8              5          0          7.0       19.00   60.0  3.141667   \n",
       "9              5          1         10.0       20.40  125.0  2.200000   \n",
       "10             6          0          8.0       24.40   70.0  3.338095   \n",
       "11             6          1         12.0       24.85  145.0  2.214706   \n",
       "\n",
       "    MaxSemesterjahr  \n",
       "0            2017.0  \n",
       "1            2014.0  \n",
       "2            2017.0  \n",
       "3            2015.0  \n",
       "4            2017.0  \n",
       "5            2015.0  \n",
       "6            2018.0  \n",
       "7            2015.0  \n",
       "8            2017.0  \n",
       "9            2015.0  \n",
       "10           2017.0  \n",
       "11           2016.0  "
      ]
     },
     "execution_count": 16,
     "metadata": {},
     "output_type": "execute_result"
    }
   ],
   "source": [
    "avg_data.head(12)"
   ]
  },
  {
   "cell_type": "code",
   "execution_count": 17,
   "metadata": {},
   "outputs": [],
   "source": [
    "def avg_error(avg_data, ycol_name, ylabel, std_data, qhigh=quant_high, qlow=quant_low):\n",
    "    passed = avg_data[\"Bestanden\"] == 1\n",
    "    avg_passed = avg_data[passed]\n",
    "    avg_nb = avg_data[~passed]\n",
    "    std_passed = std_data[passed]\n",
    "    std_nb = std_data[~passed]\n",
    "\n",
    "    terms = avg_passed[\"Fachsemester\"]\n",
    "\n",
    "    y_passed = avg_passed.fillna(0)[ycol_name]\n",
    "    err_passed = std_passed.fillna(0)[ycol_name]\n",
    "    qh_passed = qhigh[passed][ycol_name]\n",
    "    ql_passed = qlow[passed][ycol_name]\n",
    "    plt.plot(terms, y_passed,\n",
    "        # yerr=err_passed,\n",
    "        # ecolor=\"r\", elinewidth=1, capsize=1,\n",
    "        label=\"Graduiert\")\n",
    "    plt.fill_between(terms, ql_passed, qh_passed,\n",
    "        alpha=0.2, label=\"25-75 % Quantil\")\n",
    "    # plt.fill_between(terms, y_passed-err_passed, y_passed+err_passed,\n",
    "    #     color='gray', alpha=0.2)\n",
    "\n",
    "    terms = avg_nb[\"Fachsemester\"]\n",
    "    y_nb = avg_nb.fillna(0)[ycol_name]\n",
    "    err_nb = std_nb.fillna(0)[ycol_name]\n",
    "    qh_nb = qhigh[~passed][ycol_name]\n",
    "    ql_nb = qlow[~passed][ycol_name]\n",
    "    plt.plot(terms, y_nb,\n",
    "        # yerr=err_nb,\n",
    "        # ecolor=\"r\", elinewidth=1, capsize=1,\n",
    "        color='orange',\n",
    "        label=\"Dropout\")\n",
    "    plt.fill_between(terms, ql_nb, qh_nb,\n",
    "        color='orange', alpha=0.15, label=\"25-75 % Quantil\")\n",
    "\n",
    "    plt.axvline(x=6, linestyle=':', color='c')\n",
    "    plt.axvline(x=8, linestyle=':', color='c')\n",
    "\n",
    "    plt.xlabel(\"Fachsemester\")\n",
    "    plt.ylabel(ylabel)\n",
    "    plt.legend()"
   ]
  },
  {
   "cell_type": "code",
   "execution_count": 18,
   "metadata": {},
   "outputs": [
    {
     "data": {
      "text/plain": [
       "<matplotlib.lines.Line2D at 0x7fc737112a60>"
      ]
     },
     "execution_count": 18,
     "metadata": {},
     "output_type": "execute_result"
    },
    {
     "data": {
      "image/png": "[encoded data removed]",
      "text/plain": [
       "<Figure size 432x288 with 1 Axes>"
      ]
     },
     "metadata": {
      "needs_background": "light"
     },
     "output_type": "display_data"
    }
   ],
   "source": [
    "avg_error(avg_data, \"AvgNote\", \"Avg. avg Grade\", std_data)\n",
    "plt.axhline(y=2.5, color='c', linestyle='--')"
   ]
  },
  {
   "cell_type": "code",
   "execution_count": 19,
   "metadata": {},
   "outputs": [
    {
     "data": {
      "text/plain": [
       "<matplotlib.lines.Line2D at 0x7fc737503d30>"
      ]
     },
     "execution_count": 19,
     "metadata": {},
     "output_type": "execute_result"
    },
    {
     "data": {
      "image/png": "[encoded data removed]",
      "text/plain": [
       "<Figure size 432x288 with 1 Axes>"
      ]
     },
     "metadata": {
      "needs_background": "light"
     },
     "output_type": "display_data"
    }
   ],
   "source": [
    "avg_error(avg_data, \"Ects\", \"Avg. ECTS\", std_data)\n",
    "plt.axhline(y=180, color='c', linestyle='--')"
   ]
  },
  {
   "cell_type": "code",
   "execution_count": 20,
   "metadata": {},
   "outputs": [
    {
     "data": {
      "image/png": "[encoded data removed]",
      "text/plain": [
       "<Figure size 432x288 with 1 Axes>"
      ]
     },
     "metadata": {
      "needs_background": "light"
     },
     "output_type": "display_data"
    }
   ],
   "source": [
    "avg_error(avg_data, \"AnzahlNoten\", \"Avg. AP passed\", std_data)\n"
   ]
  },
  {
   "cell_type": "markdown",
   "metadata": {},
   "source": [
    "### When does Dropout happen?"
   ]
  },
  {
   "cell_type": "code",
   "execution_count": 21,
   "metadata": {},
   "outputs": [],
   "source": [
    "max_term_data = student_data[[\"Fachsemester\", \"Bestanden\"]].max().reset_index()\n",
    "counts = max_term_data.groupby([\"Fachsemester\", \"Bestanden\"]).count().reset_index()\n"
   ]
  },
  {
   "cell_type": "code",
   "execution_count": 22,
   "metadata": {},
   "outputs": [
    {
     "data": {
      "text/plain": [
       "<matplotlib.lines.Line2D at 0x7fc737330c40>"
      ]
     },
     "execution_count": 22,
     "metadata": {},
     "output_type": "execute_result"
    },
    {
     "data": {
      "image/png": "[encoded data removed]",
      "text/plain": [
       "<Figure size 432x288 with 1 Axes>"
      ]
     },
     "metadata": {
      "needs_background": "light"
     },
     "output_type": "display_data"
    }
   ],
   "source": [
    "be = counts[counts[\"Bestanden\"] == 1]\n",
    "nb = counts[counts[\"Bestanden\"] == 0]\n",
    "plt.plot(be[\"Fachsemester\"], be[\"Pseudonym\"], label=\"Graduiert\")\n",
    "plt.plot(nb[\"Fachsemester\"], nb[\"Pseudonym\"], label=\"Dropout\", color='g')\n",
    "\n",
    "plt.legend()\n",
    "plt.xlabel(\"Letztes Fachsemester\")\n",
    "plt.ylabel(\"No. Students\")\n",
    "plt.axvline(x=6, color='c', linestyle=':')\n",
    "plt.axvline(x=8, color='c', linestyle=':')"
   ]
  },
  {
   "cell_type": "code",
   "execution_count": 23,
   "metadata": {},
   "outputs": [
    {
     "data": {
      "text/plain": [
       "<matplotlib.lines.Line2D at 0x7fc73718bdf0>"
      ]
     },
     "execution_count": 23,
     "metadata": {},
     "output_type": "execute_result"
    },
    {
     "data": {
      "image/png": "[encoded data removed]",
      "text/plain": [
       "<Figure size 432x288 with 1 Axes>"
      ]
     },
     "metadata": {
      "needs_background": "light"
     },
     "output_type": "display_data"
    }
   ],
   "source": [
    "plt.plot(be[\"Fachsemester\"], np.cumsum(be[\"Pseudonym\"]), label=\"Graduiert\")\n",
    "plt.plot(nb[\"Fachsemester\"], np.cumsum(nb[\"Pseudonym\"]), label=\"Dropout\", color='orange')\n",
    "\n",
    "plt.legend()\n",
    "plt.xlabel(\"Letztes Fachsemester\")\n",
    "plt.ylabel(\"No. Students (cumulative)\")\n",
    "\n",
    "plt.axvline(x=6, color='c', linestyle=':')\n",
    "plt.axvline(x=8, color='c', linestyle=':')"
   ]
  },
  {
   "cell_type": "markdown",
   "metadata": {},
   "source": [
    "### How does dropout relate to ECTS/AP/Grade?"
   ]
  },
  {
   "cell_type": "code",
   "execution_count": 24,
   "metadata": {},
   "outputs": [
    {
     "data": {
      "text/html": [
       "<div>\n",
       "<style scoped>\n",
       "    .dataframe tbody tr th:only-of-type {\n",
       "        vertical-align: middle;\n",
       "    }\n",
       "\n",
       "    .dataframe tbody tr th {\n",
       "        vertical-align: top;\n",
       "    }\n",
       "\n",
       "    .dataframe thead th {\n",
       "        text-align: right;\n",
       "    }\n",
       "</style>\n",
       "<table border=\"1\" class=\"dataframe\">\n",
       "  <thead>\n",
       "    <tr style=\"text-align: right;\">\n",
       "      <th></th>\n",
       "      <th>Pseudonym</th>\n",
       "      <th>Fachsemester</th>\n",
       "      <th>AvgNote</th>\n",
       "      <th>SummeNoten</th>\n",
       "      <th>AnzahlNoten</th>\n",
       "      <th>Ects</th>\n",
       "      <th>Studienfach</th>\n",
       "      <th>Abschluss</th>\n",
       "      <th>Bestanden</th>\n",
       "      <th>MaxSemesterjahr</th>\n",
       "      <th>AvgEcts</th>\n",
       "      <th>AvgAP</th>\n",
       "    </tr>\n",
       "  </thead>\n",
       "  <tbody>\n",
       "    <tr>\n",
       "      <th>0</th>\n",
       "      <td>1330409</td>\n",
       "      <td>4</td>\n",
       "      <td>2.666667</td>\n",
       "      <td>8.0</td>\n",
       "      <td>3</td>\n",
       "      <td>34.0</td>\n",
       "      <td>Informatik</td>\n",
       "      <td>Bachelor</td>\n",
       "      <td>1</td>\n",
       "      <td>2011</td>\n",
       "      <td>8.500000</td>\n",
       "      <td>0.750000</td>\n",
       "    </tr>\n",
       "    <tr>\n",
       "      <th>1</th>\n",
       "      <td>1330409</td>\n",
       "      <td>5</td>\n",
       "      <td>1.800000</td>\n",
       "      <td>12.6</td>\n",
       "      <td>7</td>\n",
       "      <td>85.0</td>\n",
       "      <td>Informatik</td>\n",
       "      <td>Bachelor</td>\n",
       "      <td>1</td>\n",
       "      <td>2011</td>\n",
       "      <td>17.000000</td>\n",
       "      <td>1.400000</td>\n",
       "    </tr>\n",
       "    <tr>\n",
       "      <th>2</th>\n",
       "      <td>1330409</td>\n",
       "      <td>6</td>\n",
       "      <td>1.800000</td>\n",
       "      <td>12.6</td>\n",
       "      <td>7</td>\n",
       "      <td>85.0</td>\n",
       "      <td>Informatik</td>\n",
       "      <td>Bachelor</td>\n",
       "      <td>1</td>\n",
       "      <td>2012</td>\n",
       "      <td>14.166667</td>\n",
       "      <td>1.166667</td>\n",
       "    </tr>\n",
       "    <tr>\n",
       "      <th>3</th>\n",
       "      <td>1330409</td>\n",
       "      <td>7</td>\n",
       "      <td>1.800000</td>\n",
       "      <td>12.6</td>\n",
       "      <td>7</td>\n",
       "      <td>95.0</td>\n",
       "      <td>Informatik</td>\n",
       "      <td>Bachelor</td>\n",
       "      <td>1</td>\n",
       "      <td>2012</td>\n",
       "      <td>13.571429</td>\n",
       "      <td>1.000000</td>\n",
       "    </tr>\n",
       "    <tr>\n",
       "      <th>4</th>\n",
       "      <td>1330409</td>\n",
       "      <td>9</td>\n",
       "      <td>2.177778</td>\n",
       "      <td>19.6</td>\n",
       "      <td>9</td>\n",
       "      <td>110.0</td>\n",
       "      <td>Informatik</td>\n",
       "      <td>Bachelor</td>\n",
       "      <td>1</td>\n",
       "      <td>2013</td>\n",
       "      <td>12.222222</td>\n",
       "      <td>1.000000</td>\n",
       "    </tr>\n",
       "    <tr>\n",
       "      <th>...</th>\n",
       "      <td>...</td>\n",
       "      <td>...</td>\n",
       "      <td>...</td>\n",
       "      <td>...</td>\n",
       "      <td>...</td>\n",
       "      <td>...</td>\n",
       "      <td>...</td>\n",
       "      <td>...</td>\n",
       "      <td>...</td>\n",
       "      <td>...</td>\n",
       "      <td>...</td>\n",
       "      <td>...</td>\n",
       "    </tr>\n",
       "    <tr>\n",
       "      <th>12090</th>\n",
       "      <td>4042357</td>\n",
       "      <td>1</td>\n",
       "      <td>1.925000</td>\n",
       "      <td>7.7</td>\n",
       "      <td>4</td>\n",
       "      <td>30.0</td>\n",
       "      <td>Informatik</td>\n",
       "      <td>Bachelor</td>\n",
       "      <td>0</td>\n",
       "      <td>2019</td>\n",
       "      <td>30.000000</td>\n",
       "      <td>4.000000</td>\n",
       "    </tr>\n",
       "    <tr>\n",
       "      <th>12093</th>\n",
       "      <td>4042393</td>\n",
       "      <td>1</td>\n",
       "      <td>5.000000</td>\n",
       "      <td>5.0</td>\n",
       "      <td>1</td>\n",
       "      <td>0.0</td>\n",
       "      <td>Informatik</td>\n",
       "      <td>Bachelor</td>\n",
       "      <td>0</td>\n",
       "      <td>2019</td>\n",
       "      <td>0.000000</td>\n",
       "      <td>1.000000</td>\n",
       "    </tr>\n",
       "    <tr>\n",
       "      <th>12094</th>\n",
       "      <td>4042635</td>\n",
       "      <td>1</td>\n",
       "      <td>5.000000</td>\n",
       "      <td>5.0</td>\n",
       "      <td>1</td>\n",
       "      <td>0.0</td>\n",
       "      <td>Informatik</td>\n",
       "      <td>Bachelor</td>\n",
       "      <td>0</td>\n",
       "      <td>2019</td>\n",
       "      <td>0.000000</td>\n",
       "      <td>1.000000</td>\n",
       "    </tr>\n",
       "    <tr>\n",
       "      <th>12097</th>\n",
       "      <td>4042843</td>\n",
       "      <td>1</td>\n",
       "      <td>5.000000</td>\n",
       "      <td>10.0</td>\n",
       "      <td>2</td>\n",
       "      <td>0.0</td>\n",
       "      <td>Informatik</td>\n",
       "      <td>Bachelor</td>\n",
       "      <td>0</td>\n",
       "      <td>2019</td>\n",
       "      <td>0.000000</td>\n",
       "      <td>2.000000</td>\n",
       "    </tr>\n",
       "    <tr>\n",
       "      <th>12098</th>\n",
       "      <td>4043012</td>\n",
       "      <td>1</td>\n",
       "      <td>3.300000</td>\n",
       "      <td>3.3</td>\n",
       "      <td>1</td>\n",
       "      <td>10.0</td>\n",
       "      <td>Informatik</td>\n",
       "      <td>Bachelor</td>\n",
       "      <td>0</td>\n",
       "      <td>2019</td>\n",
       "      <td>10.000000</td>\n",
       "      <td>1.000000</td>\n",
       "    </tr>\n",
       "  </tbody>\n",
       "</table>\n",
       "<p>10313 rows × 12 columns</p>\n",
       "</div>"
      ],
      "text/plain": [
       "       Pseudonym  Fachsemester   AvgNote  SummeNoten  AnzahlNoten   Ects  \\\n",
       "0        1330409             4  2.666667         8.0            3   34.0   \n",
       "1        1330409             5  1.800000        12.6            7   85.0   \n",
       "2        1330409             6  1.800000        12.6            7   85.0   \n",
       "3        1330409             7  1.800000        12.6            7   95.0   \n",
       "4        1330409             9  2.177778        19.6            9  110.0   \n",
       "...          ...           ...       ...         ...          ...    ...   \n",
       "12090    4042357             1  1.925000         7.7            4   30.0   \n",
       "12093    4042393             1  5.000000         5.0            1    0.0   \n",
       "12094    4042635             1  5.000000         5.0            1    0.0   \n",
       "12097    4042843             1  5.000000        10.0            2    0.0   \n",
       "12098    4043012             1  3.300000         3.3            1   10.0   \n",
       "\n",
       "      Studienfach Abschluss  Bestanden  MaxSemesterjahr    AvgEcts     AvgAP  \n",
       "0      Informatik  Bachelor          1             2011   8.500000  0.750000  \n",
       "1      Informatik  Bachelor          1             2011  17.000000  1.400000  \n",
       "2      Informatik  Bachelor          1             2012  14.166667  1.166667  \n",
       "3      Informatik  Bachelor          1             2012  13.571429  1.000000  \n",
       "4      Informatik  Bachelor          1             2013  12.222222  1.000000  \n",
       "...           ...       ...        ...              ...        ...       ...  \n",
       "12090  Informatik  Bachelor          0             2019  30.000000  4.000000  \n",
       "12093  Informatik  Bachelor          0             2019   0.000000  1.000000  \n",
       "12094  Informatik  Bachelor          0             2019   0.000000  1.000000  \n",
       "12097  Informatik  Bachelor          0             2019   0.000000  2.000000  \n",
       "12098  Informatik  Bachelor          0             2019  10.000000  1.000000  \n",
       "\n",
       "[10313 rows x 12 columns]"
      ]
     },
     "execution_count": 24,
     "metadata": {},
     "output_type": "execute_result"
    }
   ],
   "source": [
    "ects_data = cum_data.copy()\n",
    "ects_data[\"AvgEcts\"] = ects_data[\"Ects\"]/ects_data[\"Fachsemester\"]\n",
    "ects_data[\"AvgAP\"] = ects_data[\"AnzahlNoten\"]/ects_data[\"Fachsemester\"]\n",
    "\n",
    "# Enforce 3-Dropout definition\n",
    "ects_data = ects_data[ects_data[\"MaxSemesterjahr\"] < 2020]\n",
    "\n",
    "ects_data"
   ]
  },
  {
   "cell_type": "code",
   "execution_count": 25,
   "metadata": {},
   "outputs": [
    {
     "data": {
      "text/html": [
       "<div>\n",
       "<style scoped>\n",
       "    .dataframe tbody tr th:only-of-type {\n",
       "        vertical-align: middle;\n",
       "    }\n",
       "\n",
       "    .dataframe tbody tr th {\n",
       "        vertical-align: top;\n",
       "    }\n",
       "\n",
       "    .dataframe thead th {\n",
       "        text-align: right;\n",
       "    }\n",
       "</style>\n",
       "<table border=\"1\" class=\"dataframe\">\n",
       "  <thead>\n",
       "    <tr style=\"text-align: right;\">\n",
       "      <th></th>\n",
       "      <th>Pseudonym</th>\n",
       "      <th>Ects</th>\n",
       "      <th>AnzahlNoten</th>\n",
       "      <th>Fachsemester</th>\n",
       "      <th>Bestanden</th>\n",
       "      <th>MaxSemesterjahr</th>\n",
       "      <th>AvgNote</th>\n",
       "      <th>AvgEcts</th>\n",
       "      <th>AvgAP</th>\n",
       "    </tr>\n",
       "  </thead>\n",
       "  <tbody>\n",
       "    <tr>\n",
       "      <th>0</th>\n",
       "      <td>1330409</td>\n",
       "      <td>140.0</td>\n",
       "      <td>13</td>\n",
       "      <td>12</td>\n",
       "      <td>1</td>\n",
       "      <td>2015</td>\n",
       "      <td>2.691667</td>\n",
       "      <td>11.666667</td>\n",
       "      <td>1.083333</td>\n",
       "    </tr>\n",
       "    <tr>\n",
       "      <th>1</th>\n",
       "      <td>1551485</td>\n",
       "      <td>100.0</td>\n",
       "      <td>10</td>\n",
       "      <td>3</td>\n",
       "      <td>1</td>\n",
       "      <td>2012</td>\n",
       "      <td>2.370000</td>\n",
       "      <td>33.333333</td>\n",
       "      <td>3.333333</td>\n",
       "    </tr>\n",
       "    <tr>\n",
       "      <th>2</th>\n",
       "      <td>1857991</td>\n",
       "      <td>40.0</td>\n",
       "      <td>2</td>\n",
       "      <td>13</td>\n",
       "      <td>1</td>\n",
       "      <td>2010</td>\n",
       "      <td>2.000000</td>\n",
       "      <td>3.076923</td>\n",
       "      <td>0.153846</td>\n",
       "    </tr>\n",
       "    <tr>\n",
       "      <th>3</th>\n",
       "      <td>1920027</td>\n",
       "      <td>30.0</td>\n",
       "      <td>4</td>\n",
       "      <td>24</td>\n",
       "      <td>0</td>\n",
       "      <td>2017</td>\n",
       "      <td>1.250000</td>\n",
       "      <td>1.250000</td>\n",
       "      <td>0.166667</td>\n",
       "    </tr>\n",
       "    <tr>\n",
       "      <th>4</th>\n",
       "      <td>1968864</td>\n",
       "      <td>180.0</td>\n",
       "      <td>13</td>\n",
       "      <td>7</td>\n",
       "      <td>1</td>\n",
       "      <td>2011</td>\n",
       "      <td>2.403846</td>\n",
       "      <td>25.714286</td>\n",
       "      <td>1.857143</td>\n",
       "    </tr>\n",
       "    <tr>\n",
       "      <th>...</th>\n",
       "      <td>...</td>\n",
       "      <td>...</td>\n",
       "      <td>...</td>\n",
       "      <td>...</td>\n",
       "      <td>...</td>\n",
       "      <td>...</td>\n",
       "      <td>...</td>\n",
       "      <td>...</td>\n",
       "      <td>...</td>\n",
       "    </tr>\n",
       "    <tr>\n",
       "      <th>2682</th>\n",
       "      <td>4042357</td>\n",
       "      <td>30.0</td>\n",
       "      <td>4</td>\n",
       "      <td>1</td>\n",
       "      <td>0</td>\n",
       "      <td>2019</td>\n",
       "      <td>1.925000</td>\n",
       "      <td>30.000000</td>\n",
       "      <td>4.000000</td>\n",
       "    </tr>\n",
       "    <tr>\n",
       "      <th>2683</th>\n",
       "      <td>4042393</td>\n",
       "      <td>0.0</td>\n",
       "      <td>1</td>\n",
       "      <td>1</td>\n",
       "      <td>0</td>\n",
       "      <td>2019</td>\n",
       "      <td>5.000000</td>\n",
       "      <td>0.000000</td>\n",
       "      <td>1.000000</td>\n",
       "    </tr>\n",
       "    <tr>\n",
       "      <th>2684</th>\n",
       "      <td>4042635</td>\n",
       "      <td>0.0</td>\n",
       "      <td>1</td>\n",
       "      <td>1</td>\n",
       "      <td>0</td>\n",
       "      <td>2019</td>\n",
       "      <td>5.000000</td>\n",
       "      <td>0.000000</td>\n",
       "      <td>1.000000</td>\n",
       "    </tr>\n",
       "    <tr>\n",
       "      <th>2685</th>\n",
       "      <td>4042843</td>\n",
       "      <td>0.0</td>\n",
       "      <td>2</td>\n",
       "      <td>1</td>\n",
       "      <td>0</td>\n",
       "      <td>2019</td>\n",
       "      <td>5.000000</td>\n",
       "      <td>0.000000</td>\n",
       "      <td>2.000000</td>\n",
       "    </tr>\n",
       "    <tr>\n",
       "      <th>2686</th>\n",
       "      <td>4043012</td>\n",
       "      <td>10.0</td>\n",
       "      <td>1</td>\n",
       "      <td>1</td>\n",
       "      <td>0</td>\n",
       "      <td>2019</td>\n",
       "      <td>3.300000</td>\n",
       "      <td>10.000000</td>\n",
       "      <td>1.000000</td>\n",
       "    </tr>\n",
       "  </tbody>\n",
       "</table>\n",
       "<p>2687 rows × 9 columns</p>\n",
       "</div>"
      ],
      "text/plain": [
       "      Pseudonym   Ects  AnzahlNoten  Fachsemester  Bestanden  MaxSemesterjahr  \\\n",
       "0       1330409  140.0           13            12          1             2015   \n",
       "1       1551485  100.0           10             3          1             2012   \n",
       "2       1857991   40.0            2            13          1             2010   \n",
       "3       1920027   30.0            4            24          0             2017   \n",
       "4       1968864  180.0           13             7          1             2011   \n",
       "...         ...    ...          ...           ...        ...              ...   \n",
       "2682    4042357   30.0            4             1          0             2019   \n",
       "2683    4042393    0.0            1             1          0             2019   \n",
       "2684    4042635    0.0            1             1          0             2019   \n",
       "2685    4042843    0.0            2             1          0             2019   \n",
       "2686    4043012   10.0            1             1          0             2019   \n",
       "\n",
       "       AvgNote    AvgEcts     AvgAP  \n",
       "0     2.691667  11.666667  1.083333  \n",
       "1     2.370000  33.333333  3.333333  \n",
       "2     2.000000   3.076923  0.153846  \n",
       "3     1.250000   1.250000  0.166667  \n",
       "4     2.403846  25.714286  1.857143  \n",
       "...        ...        ...       ...  \n",
       "2682  1.925000  30.000000  4.000000  \n",
       "2683  5.000000   0.000000  1.000000  \n",
       "2684  5.000000   0.000000  1.000000  \n",
       "2685  5.000000   0.000000  2.000000  \n",
       "2686  3.300000  10.000000  1.000000  \n",
       "\n",
       "[2687 rows x 9 columns]"
      ]
     },
     "execution_count": 25,
     "metadata": {},
     "output_type": "execute_result"
    }
   ],
   "source": [
    "cum_students = ects_data.groupby([\"Pseudonym\"])\n",
    "ects_avg_data = cum_students[[\"Ects\", \"AnzahlNoten\", \"Fachsemester\", \"Bestanden\", \"MaxSemesterjahr\", \"AvgNote\"]].max()\n",
    "ects_avg_data[\"AvgEcts\"] = ects_avg_data[\"Ects\"]/ects_avg_data[\"Fachsemester\"]\n",
    "ects_avg_data[\"AvgAP\"] = ects_avg_data[\"AnzahlNoten\"]/ects_avg_data[\"Fachsemester\"]\n",
    "\n",
    "# Enforce 3-Dropout definition\n",
    "ects_avg_data = ects_avg_data[ects_avg_data[\"MaxSemesterjahr\"] < 2020]\n",
    "ects_avg_data = ects_avg_data.reset_index()\n",
    "\n",
    "ects_avg_data"
   ]
  },
  {
   "cell_type": "code",
   "execution_count": 26,
   "metadata": {},
   "outputs": [
    {
     "name": "stderr",
     "output_type": "stream",
     "text": [
      "/tmp/ipykernel_60704/2967222653.py:3: FutureWarning: Dropping invalid columns in DataFrameGroupBy.quantile is deprecated. In a future version, a TypeError will be raised. Before calling .quantile, select only columns which should be valid for the function.\n",
      "  ects_means = ects_agg.quantile().reset_index()\n",
      "/tmp/ipykernel_60704/2967222653.py:6: FutureWarning: Dropping invalid columns in DataFrameGroupBy.quantile is deprecated. In a future version, a TypeError will be raised. Before calling .quantile, select only columns which should be valid for the function.\n",
      "  ects_ql = ects_agg.quantile(0.25).reset_index()\n",
      "/tmp/ipykernel_60704/2967222653.py:7: FutureWarning: Dropping invalid columns in DataFrameGroupBy.quantile is deprecated. In a future version, a TypeError will be raised. Before calling .quantile, select only columns which should be valid for the function.\n",
      "  ects_qh = ects_agg.quantile(0.75).reset_index()\n"
     ]
    }
   ],
   "source": [
    "ects_agg = ects_data.groupby([\"Fachsemester\", \"Bestanden\"])\n",
    "\n",
    "ects_means = ects_agg.quantile().reset_index()\n",
    "ects_counts = ects_agg.count().reset_index()\n",
    "ects_std = ects_agg.std().reset_index()\n",
    "ects_ql = ects_agg.quantile(0.25).reset_index()\n",
    "ects_qh = ects_agg.quantile(0.75).reset_index()"
   ]
  },
  {
   "cell_type": "code",
   "execution_count": 27,
   "metadata": {},
   "outputs": [
    {
     "data": {
      "text/html": [
       "<div>\n",
       "<style scoped>\n",
       "    .dataframe tbody tr th:only-of-type {\n",
       "        vertical-align: middle;\n",
       "    }\n",
       "\n",
       "    .dataframe tbody tr th {\n",
       "        vertical-align: top;\n",
       "    }\n",
       "\n",
       "    .dataframe thead th {\n",
       "        text-align: right;\n",
       "    }\n",
       "</style>\n",
       "<table border=\"1\" class=\"dataframe\">\n",
       "  <thead>\n",
       "    <tr style=\"text-align: right;\">\n",
       "      <th></th>\n",
       "      <th>Fachsemester</th>\n",
       "      <th>Bestanden</th>\n",
       "      <th>Pseudonym</th>\n",
       "      <th>AvgNote</th>\n",
       "      <th>SummeNoten</th>\n",
       "      <th>AnzahlNoten</th>\n",
       "      <th>Ects</th>\n",
       "      <th>MaxSemesterjahr</th>\n",
       "      <th>AvgEcts</th>\n",
       "      <th>AvgAP</th>\n",
       "    </tr>\n",
       "  </thead>\n",
       "  <tbody>\n",
       "    <tr>\n",
       "      <th>0</th>\n",
       "      <td>1</td>\n",
       "      <td>0</td>\n",
       "      <td>3437232.0</td>\n",
       "      <td>3.300000</td>\n",
       "      <td>5.0</td>\n",
       "      <td>2.0</td>\n",
       "      <td>10.0</td>\n",
       "      <td>2017.0</td>\n",
       "      <td>10.0</td>\n",
       "      <td>2.000000</td>\n",
       "    </tr>\n",
       "    <tr>\n",
       "      <th>1</th>\n",
       "      <td>1</td>\n",
       "      <td>1</td>\n",
       "      <td>3075244.0</td>\n",
       "      <td>2.000000</td>\n",
       "      <td>2.7</td>\n",
       "      <td>1.0</td>\n",
       "      <td>30.0</td>\n",
       "      <td>2014.0</td>\n",
       "      <td>30.0</td>\n",
       "      <td>1.000000</td>\n",
       "    </tr>\n",
       "    <tr>\n",
       "      <th>2</th>\n",
       "      <td>2</td>\n",
       "      <td>0</td>\n",
       "      <td>3409902.0</td>\n",
       "      <td>3.166667</td>\n",
       "      <td>8.3</td>\n",
       "      <td>3.0</td>\n",
       "      <td>20.0</td>\n",
       "      <td>2017.0</td>\n",
       "      <td>10.0</td>\n",
       "      <td>1.500000</td>\n",
       "    </tr>\n",
       "    <tr>\n",
       "      <th>3</th>\n",
       "      <td>2</td>\n",
       "      <td>1</td>\n",
       "      <td>3064533.0</td>\n",
       "      <td>2.060000</td>\n",
       "      <td>5.0</td>\n",
       "      <td>2.0</td>\n",
       "      <td>50.0</td>\n",
       "      <td>2015.0</td>\n",
       "      <td>25.0</td>\n",
       "      <td>1.000000</td>\n",
       "    </tr>\n",
       "    <tr>\n",
       "      <th>4</th>\n",
       "      <td>3</td>\n",
       "      <td>0</td>\n",
       "      <td>3377884.0</td>\n",
       "      <td>3.236667</td>\n",
       "      <td>11.6</td>\n",
       "      <td>4.0</td>\n",
       "      <td>30.0</td>\n",
       "      <td>2017.0</td>\n",
       "      <td>10.0</td>\n",
       "      <td>1.333333</td>\n",
       "    </tr>\n",
       "  </tbody>\n",
       "</table>\n",
       "</div>"
      ],
      "text/plain": [
       "   Fachsemester  Bestanden  Pseudonym   AvgNote  SummeNoten  AnzahlNoten  \\\n",
       "0             1          0  3437232.0  3.300000         5.0          2.0   \n",
       "1             1          1  3075244.0  2.000000         2.7          1.0   \n",
       "2             2          0  3409902.0  3.166667         8.3          3.0   \n",
       "3             2          1  3064533.0  2.060000         5.0          2.0   \n",
       "4             3          0  3377884.0  3.236667        11.6          4.0   \n",
       "\n",
       "   Ects  MaxSemesterjahr  AvgEcts     AvgAP  \n",
       "0  10.0           2017.0     10.0  2.000000  \n",
       "1  30.0           2014.0     30.0  1.000000  \n",
       "2  20.0           2017.0     10.0  1.500000  \n",
       "3  50.0           2015.0     25.0  1.000000  \n",
       "4  30.0           2017.0     10.0  1.333333  "
      ]
     },
     "execution_count": 27,
     "metadata": {},
     "output_type": "execute_result"
    }
   ],
   "source": [
    "ects_means.head()"
   ]
  },
  {
   "cell_type": "code",
   "execution_count": 28,
   "metadata": {},
   "outputs": [
    {
     "data": {
      "image/png": "[encoded data removed]",
      "text/plain": [
       "<Figure size 432x288 with 1 Axes>"
      ]
     },
     "metadata": {
      "needs_background": "light"
     },
     "output_type": "display_data"
    }
   ],
   "source": [
    "avg_error(ects_means, \"AvgEcts\", \"Avg. Ects per semester (cumulative)\", ects_std,\n",
    "    qhigh=ects_qh, qlow=ects_ql)"
   ]
  },
  {
   "cell_type": "code",
   "execution_count": 29,
   "metadata": {},
   "outputs": [
    {
     "data": {
      "text/plain": [
       "<matplotlib.legend.Legend at 0x7fc737312a90>"
      ]
     },
     "execution_count": 29,
     "metadata": {},
     "output_type": "execute_result"
    },
    {
     "data": {
      "image/png": "[encoded data removed]",
      "text/plain": [
       "<Figure size 432x288 with 1 Axes>"
      ]
     },
     "metadata": {
      "needs_background": "light"
     },
     "output_type": "display_data"
    }
   ],
   "source": [
    "bins = range(0,80, 5)\n",
    "\n",
    "be = ects_avg_data[ects_avg_data[\"Bestanden\"] == 1]\n",
    "plt.hist(be[\"AvgEcts\"], bins, label=\"Graduiert\", density=True)\n",
    "\n",
    "nb = ects_avg_data[ects_avg_data[\"Bestanden\"] == 0]\n",
    "plt.hist(nb[\"AvgEcts\"], bins, label=\"Dropout\", density=True,\n",
    "    color='orange', alpha=0.5)\n",
    "\n",
    "plt.xlabel(\"Avg. ECTS per semester\")\n",
    "plt.ylabel(\"Ratio of Students\")\n",
    "plt.legend()"
   ]
  },
  {
   "cell_type": "code",
   "execution_count": 30,
   "metadata": {},
   "outputs": [
    {
     "data": {
      "image/png": "[encoded data removed]",
      "text/plain": [
       "<Figure size 432x288 with 1 Axes>"
      ]
     },
     "metadata": {
      "needs_background": "light"
     },
     "output_type": "display_data"
    }
   ],
   "source": [
    "avg_error(ects_means, \"AvgAP\", \"Avg. AP per semester (cumulative)\", ects_std,\n",
    "    qhigh=ects_qh, qlow=ects_ql)"
   ]
  },
  {
   "cell_type": "code",
   "execution_count": 31,
   "metadata": {},
   "outputs": [
    {
     "data": {
      "text/plain": [
       "<matplotlib.legend.Legend at 0x7fc73777d6a0>"
      ]
     },
     "execution_count": 31,
     "metadata": {},
     "output_type": "execute_result"
    },
    {
     "data": {
      "image/png": "[encoded data removed]",
      "text/plain": [
       "<Figure size 432x288 with 1 Axes>"
      ]
     },
     "metadata": {
      "needs_background": "light"
     },
     "output_type": "display_data"
    }
   ],
   "source": [
    "bins = np.linspace(1, 18, 18)\n",
    "\n",
    "be = ects_avg_data[ects_avg_data[\"Bestanden\"] == 1]\n",
    "plt.hist(be[\"AvgAP\"], bins, label=\"Graduiert\", density=True)\n",
    "\n",
    "nb = ects_avg_data[ects_avg_data[\"Bestanden\"] == 0]\n",
    "plt.hist(nb[\"AvgAP\"], bins, label=\"Dropout\", density=True,\n",
    "    color='orange', alpha=0.5)\n",
    "\n",
    "plt.xlabel(\"Avg. AP per semester\")\n",
    "plt.ylabel(\"Ratio of Students\")\n",
    "plt.legend()\n"
   ]
  },
  {
   "cell_type": "code",
   "execution_count": 32,
   "metadata": {},
   "outputs": [
    {
     "data": {
      "image/png": "[encoded data removed]",
      "text/plain": [
       "<Figure size 432x288 with 1 Axes>"
      ]
     },
     "metadata": {
      "needs_background": "light"
     },
     "output_type": "display_data"
    }
   ],
   "source": [
    "avg_error(ects_means, \"AvgNote\", \"Avg. Grade (cumulative)\", ects_std,\n",
    "    qhigh=ects_qh, qlow=ects_ql)\n"
   ]
  },
  {
   "cell_type": "code",
   "execution_count": 33,
   "metadata": {},
   "outputs": [
    {
     "data": {
      "text/plain": [
       "<matplotlib.legend.Legend at 0x7fc73771b9a0>"
      ]
     },
     "execution_count": 33,
     "metadata": {},
     "output_type": "execute_result"
    },
    {
     "data": {
      "image/png": "[encoded data removed]",
      "text/plain": [
       "<Figure size 432x288 with 1 Axes>"
      ]
     },
     "metadata": {
      "needs_background": "light"
     },
     "output_type": "display_data"
    }
   ],
   "source": [
    "bins = np.linspace(1, 4, 31)\n",
    "\n",
    "be = ects_avg_data[ects_avg_data[\"Bestanden\"] == 1]\n",
    "plt.hist(be[\"AvgNote\"], bins, label=\"Graduiert\", density=True)\n",
    "\n",
    "nb = ects_avg_data[ects_avg_data[\"Bestanden\"] == 0]\n",
    "plt.hist(nb[\"AvgNote\"], bins, label=\"Dropout\", density=True,\n",
    "    color='orange', alpha=0.5)\n",
    "\n",
    "plt.xlabel(\"Avg. Grade\")\n",
    "plt.ylabel(\"Ratio of Students\")\n",
    "plt.legend()\n",
    "\n"
   ]
  },
  {
   "cell_type": "code",
   "execution_count": null,
   "metadata": {},
   "outputs": [],
   "source": []
  }
 ],
 "metadata": {
  "interpreter": {
   "hash": "890b1d3d1a4d3e30a9aae7db72abda11a91aa5cbee365e582520794914e99a24"
  },
  "kernelspec": {
   "display_name": "Python 3.8.10 64-bit ('env': venv)",
   "language": "python",
   "name": "python3"
  },
  "language_info": {
   "codemirror_mode": {
    "name": "ipython",
    "version": 3
   },
   "file_extension": ".py",
   "mimetype": "text/x-python",
   "name": "python",
   "nbconvert_exporter": "python",
   "pygments_lexer": "ipython3",
   "version": "3.8.10"
  },
  "orig_nbformat": 4
 },
 "nbformat": 4,
 "nbformat_minor": 2
}
